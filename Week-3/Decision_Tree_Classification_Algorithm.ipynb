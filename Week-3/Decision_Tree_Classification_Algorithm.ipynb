{
  "nbformat": 4,
  "nbformat_minor": 0,
  "metadata": {
    "colab": {
      "provenance": []
    },
    "kernelspec": {
      "name": "python3",
      "display_name": "Python 3"
    },
    "language_info": {
      "name": "python"
    }
  },
  "cells": [
    {
      "cell_type": "markdown",
      "source": [
        "# Decision Tree Classification model using the famous titanic datasets.\n",
        "\n",
        "*credits to kaggle for the datasets used in this project.*"
      ],
      "metadata": {
        "id": "hetaEWZ06UJh"
      }
    },
    {
      "cell_type": "code",
      "source": [
        "!pip install kaggle"
      ],
      "metadata": {
        "id": "o7GEFub_i5IU",
        "outputId": "dc0e02a1-75c7-4abc-8736-20d1f87c52b6",
        "colab": {
          "base_uri": "https://localhost:8080/"
        }
      },
      "execution_count": 4,
      "outputs": [
        {
          "output_type": "stream",
          "name": "stdout",
          "text": [
            "Looking in indexes: https://pypi.org/simple, https://us-python.pkg.dev/colab-wheels/public/simple/\n",
            "Requirement already satisfied: kaggle in /usr/local/lib/python3.9/dist-packages (1.5.13)\n",
            "Requirement already satisfied: certifi in /usr/local/lib/python3.9/dist-packages (from kaggle) (2022.12.7)\n",
            "Requirement already satisfied: python-slugify in /usr/local/lib/python3.9/dist-packages (from kaggle) (8.0.1)\n",
            "Requirement already satisfied: python-dateutil in /usr/local/lib/python3.9/dist-packages (from kaggle) (2.8.2)\n",
            "Requirement already satisfied: requests in /usr/local/lib/python3.9/dist-packages (from kaggle) (2.27.1)\n",
            "Requirement already satisfied: urllib3 in /usr/local/lib/python3.9/dist-packages (from kaggle) (1.26.15)\n",
            "Requirement already satisfied: six>=1.10 in /usr/local/lib/python3.9/dist-packages (from kaggle) (1.16.0)\n",
            "Requirement already satisfied: tqdm in /usr/local/lib/python3.9/dist-packages (from kaggle) (4.65.0)\n",
            "Requirement already satisfied: text-unidecode>=1.3 in /usr/local/lib/python3.9/dist-packages (from python-slugify->kaggle) (1.3)\n",
            "Requirement already satisfied: charset-normalizer~=2.0.0 in /usr/local/lib/python3.9/dist-packages (from requests->kaggle) (2.0.12)\n",
            "Requirement already satisfied: idna<4,>=2.5 in /usr/local/lib/python3.9/dist-packages (from requests->kaggle) (3.4)\n"
          ]
        }
      ]
    },
    {
      "cell_type": "markdown",
      "source": [],
      "metadata": {
        "id": "vW2csD4c6SN_"
      }
    },
    {
      "cell_type": "markdown",
      "source": [
        "**Importing drive to google Colab**"
      ],
      "metadata": {
        "id": "imqG9VJ46FfZ"
      }
    },
    {
      "cell_type": "code",
      "source": [
        "from google.colab import drive\n",
        "drive.mount('/content/drive')"
      ],
      "metadata": {
        "id": "e-zqKz1YjDOM",
        "outputId": "873335d8-dbc3-4e9f-987d-afb19a519762",
        "colab": {
          "base_uri": "https://localhost:8080/"
        }
      },
      "execution_count": 5,
      "outputs": [
        {
          "output_type": "stream",
          "name": "stdout",
          "text": [
            "Mounted at /content/drive\n"
          ]
        }
      ]
    },
    {
      "cell_type": "markdown",
      "source": [],
      "metadata": {
        "id": "pstxmgPu6QSQ"
      }
    },
    {
      "cell_type": "code",
      "source": [
        "!mkdir ~/.kaggle\n",
        "!cp /content/drive/MyDrive/kaggle.json ~/.kaggle/\n",
        "!chmod 600 ~/.kaggle/kaggle.json"
      ],
      "metadata": {
        "id": "sXN6b22tjXrT"
      },
      "execution_count": 6,
      "outputs": []
    },
    {
      "cell_type": "markdown",
      "source": [
        "**Downloading the datasets using Kaggle API**"
      ],
      "metadata": {
        "id": "0Xz3YhYD57JI"
      }
    },
    {
      "cell_type": "code",
      "source": [
        "!kaggle competitions download -c titanic -p /content/data/\n",
        "\n",
        "\n"
      ],
      "metadata": {
        "id": "wGgpSQvGjaiA",
        "outputId": "6efc212c-3ede-4961-ea68-1d3e6a5db51b",
        "colab": {
          "base_uri": "https://localhost:8080/"
        }
      },
      "execution_count": 11,
      "outputs": [
        {
          "output_type": "stream",
          "name": "stdout",
          "text": [
            "titanic.zip: Skipping, found more recently modified local copy (use --force to force download)\n"
          ]
        }
      ]
    },
    {
      "cell_type": "markdown",
      "source": [
        "**Extracting Datasets using zipfile library**"
      ],
      "metadata": {
        "id": "IR5lIglN5v20"
      }
    },
    {
      "cell_type": "code",
      "source": [
        "import zipfile\n",
        "\n",
        "# Replace \"/path/to/your/zip/file\" with the path to your downloaded zip file\n",
        "with zipfile.ZipFile(\"/content/data/titanic.zip\", 'r') as zip_ref:\n",
        "    zip_ref.extractall(\"/content/data\")\n"
      ],
      "metadata": {
        "id": "pTORj30mmDHz"
      },
      "execution_count": 13,
      "outputs": []
    },
    {
      "cell_type": "markdown",
      "source": [
        "**Importing of Libraries**"
      ],
      "metadata": {
        "id": "-6R3bHEd5nS4"
      }
    },
    {
      "cell_type": "code",
      "execution_count": 76,
      "metadata": {
        "id": "1BfHm_iIBCEN"
      },
      "outputs": [],
      "source": [
        "import pandas as pd\n",
        "import numpy as np\n",
        "from sklearn.tree import DecisionTreeClassifier\n",
        "import sklearn.tree as tree"
      ]
    },
    {
      "cell_type": "markdown",
      "source": [
        "**Importing of Data, Data Analysis, Data Preprocessing**"
      ],
      "metadata": {
        "id": "U1F4DMYE5WgO"
      }
    },
    {
      "cell_type": "code",
      "source": [
        "df_train = pd.read_csv(\"/content/data/train.csv\")\n",
        "df_test = pd.read_csv(\"/content/data/test.csv\")\n",
        "df_sub = pd.read_csv(\"/content/data/gender_submission.csv\")\n",
        "\n",
        "\n",
        "df_test2= pd.concat([df_test,df_sub], axis=1)\n",
        "df_train = df_train.dropna()\n",
        "df_test2 = df_test2.dropna()\n",
        "df_sub = df_sub.dropna()\n",
        "\n",
        "print(df_train.shape,df_test2.shape,df_sub.shape)\n",
        "\n",
        "\n",
        "\n",
        "\n"
      ],
      "metadata": {
        "colab": {
          "base_uri": "https://localhost:8080/"
        },
        "id": "3lAfauLpgkJu",
        "outputId": "78ade5c7-113a-4d19-ebbb-b65634d2332d"
      },
      "execution_count": 106,
      "outputs": [
        {
          "output_type": "stream",
          "name": "stdout",
          "text": [
            "(183, 12) (87, 13) (418, 2)\n"
          ]
        }
      ]
    },
    {
      "cell_type": "code",
      "source": [
        "print(df_train.shape,\n",
        "df_test.shape,\n",
        "df_sub.shape)\n",
        "\n",
        "df_train['Embarked'].uni"
      ],
      "metadata": {
        "id": "vwwYOKSApaQn",
        "outputId": "22805f23-f1ee-490e-db41-469715eb7126",
        "colab": {
          "base_uri": "https://localhost:8080/"
        }
      },
      "execution_count": 91,
      "outputs": [
        {
          "output_type": "stream",
          "name": "stdout",
          "text": [
            "(183, 12) (87, 11) (418, 2)\n"
          ]
        },
        {
          "output_type": "execute_result",
          "data": {
            "text/plain": [
              "array(['C', 'S', 'Q'], dtype=object)"
            ]
          },
          "metadata": {},
          "execution_count": 91
        }
      ]
    },
    {
      "cell_type": "code",
      "source": [
        "X = df_train[[\"Pclass\",\"Sex\",\"Age\",\"Parch\",\"Embarked\"]].values\n",
        "y = df_train[\"Survived\"].values"
      ],
      "metadata": {
        "id": "auX7bUsXhAhV"
      },
      "execution_count": 108,
      "outputs": []
    },
    {
      "cell_type": "code",
      "source": [
        "X_test2 = df_test2[[\"Pclass\",\"Sex\",\"Age\",\"Parch\",\"Embarked\"]].values\n",
        "y_test2 = df_test2[\"Survived\"].values\n",
        "X"
      ],
      "metadata": {
        "id": "bCKz4fKDi4Jd",
        "outputId": "1158b812-1095-4f73-d51b-a2891b3827a5",
        "colab": {
          "base_uri": "https://localhost:8080/"
        }
      },
      "execution_count": 109,
      "outputs": [
        {
          "output_type": "execute_result",
          "data": {
            "text/plain": [
              "array([[1, 'female', 38.0, 0, 'C'],\n",
              "       [1, 'female', 35.0, 0, 'S'],\n",
              "       [1, 'male', 54.0, 0, 'S'],\n",
              "       [3, 'female', 4.0, 1, 'S'],\n",
              "       [1, 'female', 58.0, 0, 'S'],\n",
              "       [2, 'male', 34.0, 0, 'S'],\n",
              "       [1, 'male', 28.0, 0, 'S'],\n",
              "       [1, 'male', 19.0, 2, 'S'],\n",
              "       [1, 'female', 49.0, 0, 'C'],\n",
              "       [1, 'male', 65.0, 1, 'C'],\n",
              "       [1, 'male', 45.0, 0, 'S'],\n",
              "       [2, 'female', 29.0, 0, 'S'],\n",
              "       [3, 'male', 25.0, 0, 'S'],\n",
              "       [1, 'female', 23.0, 2, 'S'],\n",
              "       [1, 'male', 46.0, 0, 'S'],\n",
              "       [1, 'male', 71.0, 0, 'C'],\n",
              "       [1, 'male', 23.0, 1, 'C'],\n",
              "       [1, 'male', 21.0, 1, 'S'],\n",
              "       [1, 'male', 47.0, 0, 'S'],\n",
              "       [1, 'male', 24.0, 1, 'C'],\n",
              "       [2, 'female', 32.5, 0, 'S'],\n",
              "       [1, 'male', 54.0, 1, 'S'],\n",
              "       [1, 'female', 19.0, 2, 'S'],\n",
              "       [1, 'male', 37.0, 0, 'S'],\n",
              "       [1, 'male', 24.0, 0, 'C'],\n",
              "       [2, 'male', 36.5, 2, 'S'],\n",
              "       [1, 'female', 22.0, 0, 'S'],\n",
              "       [1, 'male', 61.0, 0, 'S'],\n",
              "       [1, 'male', 56.0, 0, 'C'],\n",
              "       [1, 'female', 50.0, 0, 'C'],\n",
              "       [2, 'male', 1.0, 1, 'S'],\n",
              "       [2, 'male', 3.0, 1, 'S'],\n",
              "       [1, 'female', 44.0, 0, 'C'],\n",
              "       [1, 'female', 58.0, 0, 'C'],\n",
              "       [3, 'female', 2.0, 1, 'S'],\n",
              "       [1, 'male', 40.0, 0, 'C'],\n",
              "       [1, 'female', 31.0, 0, 'C'],\n",
              "       [1, 'female', 32.0, 0, 'C'],\n",
              "       [1, 'male', 38.0, 0, 'S'],\n",
              "       [1, 'female', 35.0, 0, 'S'],\n",
              "       [1, 'male', 44.0, 0, 'Q'],\n",
              "       [1, 'male', 37.0, 1, 'S'],\n",
              "       [3, 'female', 29.0, 1, 'S'],\n",
              "       [1, 'male', 62.0, 0, 'S'],\n",
              "       [1, 'female', 30.0, 0, 'S'],\n",
              "       [1, 'male', 52.0, 1, 'S'],\n",
              "       [1, 'male', 40.0, 0, 'S'],\n",
              "       [1, 'female', 58.0, 1, 'S'],\n",
              "       [1, 'female', 35.0, 0, 'S'],\n",
              "       [1, 'male', 37.0, 1, 'C'],\n",
              "       [1, 'female', 63.0, 0, 'S'],\n",
              "       [1, 'female', 19.0, 0, 'C'],\n",
              "       [2, 'male', 36.0, 0, 'C'],\n",
              "       [1, 'female', 2.0, 2, 'S'],\n",
              "       [1, 'female', 50.0, 1, 'C'],\n",
              "       [1, 'male', 0.92, 2, 'S'],\n",
              "       [1, 'female', 17.0, 0, 'C'],\n",
              "       [1, 'female', 30.0, 0, 'C'],\n",
              "       [1, 'female', 24.0, 0, 'C'],\n",
              "       [1, 'female', 18.0, 2, 'C'],\n",
              "       [1, 'female', 31.0, 2, 'S'],\n",
              "       [1, 'female', 40.0, 1, 'C'],\n",
              "       [1, 'female', 36.0, 0, 'C'],\n",
              "       [2, 'female', 36.0, 0, 'S'],\n",
              "       [1, 'female', 16.0, 1, 'C'],\n",
              "       [1, 'male', 45.5, 0, 'S'],\n",
              "       [1, 'male', 38.0, 1, 'S'],\n",
              "       [1, 'male', 29.0, 0, 'S'],\n",
              "       [1, 'female', 41.0, 0, 'C'],\n",
              "       [1, 'male', 45.0, 0, 'S'],\n",
              "       [2, 'male', 2.0, 1, 'S'],\n",
              "       [1, 'female', 24.0, 2, 'S'],\n",
              "       [2, 'female', 24.0, 0, 'S'],\n",
              "       [1, 'female', 22.0, 1, 'S'],\n",
              "       [1, 'female', 60.0, 0, 'C'],\n",
              "       [1, 'female', 24.0, 0, 'C'],\n",
              "       [1, 'male', 25.0, 0, 'C'],\n",
              "       [1, 'male', 27.0, 2, 'C'],\n",
              "       [1, 'male', 36.0, 2, 'S'],\n",
              "       [1, 'female', 23.0, 0, 'C'],\n",
              "       [3, 'female', 24.0, 2, 'S'],\n",
              "       [1, 'female', 33.0, 0, 'Q'],\n",
              "       [3, 'male', 32.0, 0, 'S'],\n",
              "       [1, 'male', 28.0, 0, 'S'],\n",
              "       [1, 'male', 50.0, 0, 'S'],\n",
              "       [1, 'female', 14.0, 2, 'S'],\n",
              "       [1, 'male', 64.0, 4, 'S'],\n",
              "       [1, 'male', 4.0, 2, 'S'],\n",
              "       [1, 'male', 52.0, 0, 'S'],\n",
              "       [1, 'male', 30.0, 0, 'C'],\n",
              "       [1, 'male', 49.0, 0, 'C'],\n",
              "       [1, 'male', 65.0, 0, 'S'],\n",
              "       [1, 'male', 48.0, 0, 'S'],\n",
              "       [1, 'male', 47.0, 0, 'S'],\n",
              "       [2, 'female', 23.0, 0, 'C'],\n",
              "       [1, 'male', 25.0, 0, 'C'],\n",
              "       [1, 'female', 35.0, 0, 'S'],\n",
              "       [1, 'male', 58.0, 0, 'C'],\n",
              "       [1, 'male', 55.0, 0, 'S'],\n",
              "       [1, 'female', 54.0, 0, 'C'],\n",
              "       [1, 'female', 25.0, 2, 'S'],\n",
              "       [1, 'female', 16.0, 0, 'S'],\n",
              "       [1, 'male', 18.0, 0, 'C'],\n",
              "       [1, 'male', 36.0, 0, 'S'],\n",
              "       [1, 'male', 47.0, 0, 'S'],\n",
              "       [2, 'female', 34.0, 0, 'S'],\n",
              "       [1, 'female', 30.0, 0, 'S'],\n",
              "       [1, 'female', 44.0, 1, 'C'],\n",
              "       [1, 'male', 45.0, 0, 'S'],\n",
              "       [1, 'female', 22.0, 2, 'C'],\n",
              "       [1, 'female', 36.0, 2, 'S'],\n",
              "       [1, 'male', 50.0, 0, 'C'],\n",
              "       [1, 'male', 17.0, 2, 'C'],\n",
              "       [1, 'female', 48.0, 0, 'C'],\n",
              "       [1, 'female', 39.0, 1, 'S'],\n",
              "       [1, 'female', 53.0, 0, 'S'],\n",
              "       [1, 'male', 36.0, 0, 'S'],\n",
              "       [1, 'female', 39.0, 0, 'S'],\n",
              "       [1, 'female', 39.0, 1, 'C'],\n",
              "       [1, 'male', 36.0, 0, 'C'],\n",
              "       [1, 'female', 18.0, 2, 'S'],\n",
              "       [1, 'male', 60.0, 1, 'C'],\n",
              "       [1, 'female', 52.0, 0, 'C'],\n",
              "       [1, 'male', 49.0, 0, 'C'],\n",
              "       [1, 'female', 40.0, 0, 'S'],\n",
              "       [2, 'female', 4.0, 1, 'S'],\n",
              "       [1, 'male', 42.0, 0, 'S'],\n",
              "       [1, 'male', 61.0, 0, 'S'],\n",
              "       [1, 'female', 21.0, 0, 'S'],\n",
              "       [1, 'male', 80.0, 0, 'S'],\n",
              "       [1, 'male', 32.0, 0, 'C'],\n",
              "       [1, 'female', 24.0, 0, 'C'],\n",
              "       [1, 'male', 48.0, 0, 'C'],\n",
              "       [1, 'male', 56.0, 0, 'C'],\n",
              "       [1, 'male', 58.0, 2, 'C'],\n",
              "       [1, 'male', 47.0, 0, 'S'],\n",
              "       [1, 'male', 31.0, 0, 'S'],\n",
              "       [1, 'male', 36.0, 1, 'C'],\n",
              "       [1, 'male', 27.0, 0, 'C'],\n",
              "       [1, 'female', 15.0, 1, 'S'],\n",
              "       [1, 'male', 31.0, 0, 'S'],\n",
              "       [1, 'male', 49.0, 1, 'C'],\n",
              "       [3, 'male', 42.0, 0, 'S'],\n",
              "       [1, 'female', 18.0, 0, 'C'],\n",
              "       [1, 'male', 35.0, 0, 'S'],\n",
              "       [1, 'male', 42.0, 0, 'S'],\n",
              "       [1, 'female', 24.0, 0, 'C'],\n",
              "       [1, 'male', 48.0, 0, 'S'],\n",
              "       [3, 'male', 19.0, 0, 'S'],\n",
              "       [1, 'female', 38.0, 0, 'C'],\n",
              "       [2, 'female', 27.0, 0, 'S'],\n",
              "       [1, 'male', 27.0, 0, 'S'],\n",
              "       [1, 'female', 29.0, 0, 'S'],\n",
              "       [1, 'male', 35.0, 0, 'C'],\n",
              "       [1, 'male', 36.0, 0, 'S'],\n",
              "       [1, 'female', 21.0, 2, 'C'],\n",
              "       [1, 'male', 70.0, 1, 'S'],\n",
              "       [1, 'male', 19.0, 0, 'S'],\n",
              "       [3, 'male', 6.0, 1, 'S'],\n",
              "       [1, 'female', 33.0, 0, 'S'],\n",
              "       [1, 'female', 36.0, 2, 'S'],\n",
              "       [1, 'female', 51.0, 0, 'S'],\n",
              "       [2, 'female', 57.0, 0, 'S'],\n",
              "       [1, 'female', 43.0, 1, 'S'],\n",
              "       [1, 'female', 17.0, 0, 'S'],\n",
              "       [1, 'male', 29.0, 0, 'S'],\n",
              "       [1, 'male', 46.0, 0, 'C'],\n",
              "       [1, 'female', 49.0, 0, 'S'],\n",
              "       [1, 'male', 11.0, 2, 'S'],\n",
              "       [1, 'male', 39.0, 0, 'S'],\n",
              "       [1, 'female', 33.0, 0, 'S'],\n",
              "       [1, 'female', 52.0, 1, 'S'],\n",
              "       [3, 'female', 27.0, 1, 'S'],\n",
              "       [1, 'female', 39.0, 1, 'C'],\n",
              "       [1, 'female', 16.0, 1, 'S'],\n",
              "       [1, 'male', 51.0, 0, 'S'],\n",
              "       [1, 'female', 48.0, 0, 'S'],\n",
              "       [1, 'male', 31.0, 0, 'S'],\n",
              "       [1, 'female', 47.0, 1, 'S'],\n",
              "       [1, 'male', 33.0, 0, 'S'],\n",
              "       [1, 'female', 56.0, 1, 'C'],\n",
              "       [1, 'female', 19.0, 0, 'S'],\n",
              "       [1, 'male', 26.0, 0, 'C']], dtype=object)"
            ]
          },
          "metadata": {},
          "execution_count": 109
        }
      ]
    },
    {
      "cell_type": "markdown",
      "source": [
        "Data Preprocessing"
      ],
      "metadata": {
        "id": "U7jAjF5K5LMp"
      }
    },
    {
      "cell_type": "code",
      "source": [
        "from sklearn import preprocessing\n",
        "sex = preprocessing.LabelEncoder()\n",
        "embarked = preprocessing.LabelEncoder()\n",
        "sex.fit(['male','female'])\n",
        "embarked.fit([\"S\",\"C\",\"Q\",'nan'])\n",
        "X[:,1] = sex.transform(X[:,1])\n",
        "X_test2[:,1] = sex.transform(X_test2[:,1])\n",
        "X[:,4] = embarked.transform(X[:,4])\n",
        "X_test2[:,4] = embarked.transform(X_test2[:,4])\n",
        "\n",
        "X"
      ],
      "metadata": {
        "id": "7sV9Tj5YnIHu",
        "outputId": "80f2684d-6c20-4f84-bf4d-b66278a66575",
        "colab": {
          "base_uri": "https://localhost:8080/"
        }
      },
      "execution_count": 110,
      "outputs": [
        {
          "output_type": "execute_result",
          "data": {
            "text/plain": [
              "array([[1, 0, 38.0, 0, 0],\n",
              "       [1, 0, 35.0, 0, 2],\n",
              "       [1, 1, 54.0, 0, 2],\n",
              "       [3, 0, 4.0, 1, 2],\n",
              "       [1, 0, 58.0, 0, 2],\n",
              "       [2, 1, 34.0, 0, 2],\n",
              "       [1, 1, 28.0, 0, 2],\n",
              "       [1, 1, 19.0, 2, 2],\n",
              "       [1, 0, 49.0, 0, 0],\n",
              "       [1, 1, 65.0, 1, 0],\n",
              "       [1, 1, 45.0, 0, 2],\n",
              "       [2, 0, 29.0, 0, 2],\n",
              "       [3, 1, 25.0, 0, 2],\n",
              "       [1, 0, 23.0, 2, 2],\n",
              "       [1, 1, 46.0, 0, 2],\n",
              "       [1, 1, 71.0, 0, 0],\n",
              "       [1, 1, 23.0, 1, 0],\n",
              "       [1, 1, 21.0, 1, 2],\n",
              "       [1, 1, 47.0, 0, 2],\n",
              "       [1, 1, 24.0, 1, 0],\n",
              "       [2, 0, 32.5, 0, 2],\n",
              "       [1, 1, 54.0, 1, 2],\n",
              "       [1, 0, 19.0, 2, 2],\n",
              "       [1, 1, 37.0, 0, 2],\n",
              "       [1, 1, 24.0, 0, 0],\n",
              "       [2, 1, 36.5, 2, 2],\n",
              "       [1, 0, 22.0, 0, 2],\n",
              "       [1, 1, 61.0, 0, 2],\n",
              "       [1, 1, 56.0, 0, 0],\n",
              "       [1, 0, 50.0, 0, 0],\n",
              "       [2, 1, 1.0, 1, 2],\n",
              "       [2, 1, 3.0, 1, 2],\n",
              "       [1, 0, 44.0, 0, 0],\n",
              "       [1, 0, 58.0, 0, 0],\n",
              "       [3, 0, 2.0, 1, 2],\n",
              "       [1, 1, 40.0, 0, 0],\n",
              "       [1, 0, 31.0, 0, 0],\n",
              "       [1, 0, 32.0, 0, 0],\n",
              "       [1, 1, 38.0, 0, 2],\n",
              "       [1, 0, 35.0, 0, 2],\n",
              "       [1, 1, 44.0, 0, 1],\n",
              "       [1, 1, 37.0, 1, 2],\n",
              "       [3, 0, 29.0, 1, 2],\n",
              "       [1, 1, 62.0, 0, 2],\n",
              "       [1, 0, 30.0, 0, 2],\n",
              "       [1, 1, 52.0, 1, 2],\n",
              "       [1, 1, 40.0, 0, 2],\n",
              "       [1, 0, 58.0, 1, 2],\n",
              "       [1, 0, 35.0, 0, 2],\n",
              "       [1, 1, 37.0, 1, 0],\n",
              "       [1, 0, 63.0, 0, 2],\n",
              "       [1, 0, 19.0, 0, 0],\n",
              "       [2, 1, 36.0, 0, 0],\n",
              "       [1, 0, 2.0, 2, 2],\n",
              "       [1, 0, 50.0, 1, 0],\n",
              "       [1, 1, 0.92, 2, 2],\n",
              "       [1, 0, 17.0, 0, 0],\n",
              "       [1, 0, 30.0, 0, 0],\n",
              "       [1, 0, 24.0, 0, 0],\n",
              "       [1, 0, 18.0, 2, 0],\n",
              "       [1, 0, 31.0, 2, 2],\n",
              "       [1, 0, 40.0, 1, 0],\n",
              "       [1, 0, 36.0, 0, 0],\n",
              "       [2, 0, 36.0, 0, 2],\n",
              "       [1, 0, 16.0, 1, 0],\n",
              "       [1, 1, 45.5, 0, 2],\n",
              "       [1, 1, 38.0, 1, 2],\n",
              "       [1, 1, 29.0, 0, 2],\n",
              "       [1, 0, 41.0, 0, 0],\n",
              "       [1, 1, 45.0, 0, 2],\n",
              "       [2, 1, 2.0, 1, 2],\n",
              "       [1, 0, 24.0, 2, 2],\n",
              "       [2, 0, 24.0, 0, 2],\n",
              "       [1, 0, 22.0, 1, 2],\n",
              "       [1, 0, 60.0, 0, 0],\n",
              "       [1, 0, 24.0, 0, 0],\n",
              "       [1, 1, 25.0, 0, 0],\n",
              "       [1, 1, 27.0, 2, 0],\n",
              "       [1, 1, 36.0, 2, 2],\n",
              "       [1, 0, 23.0, 0, 0],\n",
              "       [3, 0, 24.0, 2, 2],\n",
              "       [1, 0, 33.0, 0, 1],\n",
              "       [3, 1, 32.0, 0, 2],\n",
              "       [1, 1, 28.0, 0, 2],\n",
              "       [1, 1, 50.0, 0, 2],\n",
              "       [1, 0, 14.0, 2, 2],\n",
              "       [1, 1, 64.0, 4, 2],\n",
              "       [1, 1, 4.0, 2, 2],\n",
              "       [1, 1, 52.0, 0, 2],\n",
              "       [1, 1, 30.0, 0, 0],\n",
              "       [1, 1, 49.0, 0, 0],\n",
              "       [1, 1, 65.0, 0, 2],\n",
              "       [1, 1, 48.0, 0, 2],\n",
              "       [1, 1, 47.0, 0, 2],\n",
              "       [2, 0, 23.0, 0, 0],\n",
              "       [1, 1, 25.0, 0, 0],\n",
              "       [1, 0, 35.0, 0, 2],\n",
              "       [1, 1, 58.0, 0, 0],\n",
              "       [1, 1, 55.0, 0, 2],\n",
              "       [1, 0, 54.0, 0, 0],\n",
              "       [1, 0, 25.0, 2, 2],\n",
              "       [1, 0, 16.0, 0, 2],\n",
              "       [1, 1, 18.0, 0, 0],\n",
              "       [1, 1, 36.0, 0, 2],\n",
              "       [1, 1, 47.0, 0, 2],\n",
              "       [2, 0, 34.0, 0, 2],\n",
              "       [1, 0, 30.0, 0, 2],\n",
              "       [1, 0, 44.0, 1, 0],\n",
              "       [1, 1, 45.0, 0, 2],\n",
              "       [1, 0, 22.0, 2, 0],\n",
              "       [1, 0, 36.0, 2, 2],\n",
              "       [1, 1, 50.0, 0, 0],\n",
              "       [1, 1, 17.0, 2, 0],\n",
              "       [1, 0, 48.0, 0, 0],\n",
              "       [1, 0, 39.0, 1, 2],\n",
              "       [1, 0, 53.0, 0, 2],\n",
              "       [1, 1, 36.0, 0, 2],\n",
              "       [1, 0, 39.0, 0, 2],\n",
              "       [1, 0, 39.0, 1, 0],\n",
              "       [1, 1, 36.0, 0, 0],\n",
              "       [1, 0, 18.0, 2, 2],\n",
              "       [1, 1, 60.0, 1, 0],\n",
              "       [1, 0, 52.0, 0, 0],\n",
              "       [1, 1, 49.0, 0, 0],\n",
              "       [1, 0, 40.0, 0, 2],\n",
              "       [2, 0, 4.0, 1, 2],\n",
              "       [1, 1, 42.0, 0, 2],\n",
              "       [1, 1, 61.0, 0, 2],\n",
              "       [1, 0, 21.0, 0, 2],\n",
              "       [1, 1, 80.0, 0, 2],\n",
              "       [1, 1, 32.0, 0, 0],\n",
              "       [1, 0, 24.0, 0, 0],\n",
              "       [1, 1, 48.0, 0, 0],\n",
              "       [1, 1, 56.0, 0, 0],\n",
              "       [1, 1, 58.0, 2, 0],\n",
              "       [1, 1, 47.0, 0, 2],\n",
              "       [1, 1, 31.0, 0, 2],\n",
              "       [1, 1, 36.0, 1, 0],\n",
              "       [1, 1, 27.0, 0, 0],\n",
              "       [1, 0, 15.0, 1, 2],\n",
              "       [1, 1, 31.0, 0, 2],\n",
              "       [1, 1, 49.0, 1, 0],\n",
              "       [3, 1, 42.0, 0, 2],\n",
              "       [1, 0, 18.0, 0, 0],\n",
              "       [1, 1, 35.0, 0, 2],\n",
              "       [1, 1, 42.0, 0, 2],\n",
              "       [1, 0, 24.0, 0, 0],\n",
              "       [1, 1, 48.0, 0, 2],\n",
              "       [3, 1, 19.0, 0, 2],\n",
              "       [1, 0, 38.0, 0, 0],\n",
              "       [2, 0, 27.0, 0, 2],\n",
              "       [1, 1, 27.0, 0, 2],\n",
              "       [1, 0, 29.0, 0, 2],\n",
              "       [1, 1, 35.0, 0, 0],\n",
              "       [1, 1, 36.0, 0, 2],\n",
              "       [1, 0, 21.0, 2, 0],\n",
              "       [1, 1, 70.0, 1, 2],\n",
              "       [1, 1, 19.0, 0, 2],\n",
              "       [3, 1, 6.0, 1, 2],\n",
              "       [1, 0, 33.0, 0, 2],\n",
              "       [1, 0, 36.0, 2, 2],\n",
              "       [1, 0, 51.0, 0, 2],\n",
              "       [2, 0, 57.0, 0, 2],\n",
              "       [1, 0, 43.0, 1, 2],\n",
              "       [1, 0, 17.0, 0, 2],\n",
              "       [1, 1, 29.0, 0, 2],\n",
              "       [1, 1, 46.0, 0, 0],\n",
              "       [1, 0, 49.0, 0, 2],\n",
              "       [1, 1, 11.0, 2, 2],\n",
              "       [1, 1, 39.0, 0, 2],\n",
              "       [1, 0, 33.0, 0, 2],\n",
              "       [1, 0, 52.0, 1, 2],\n",
              "       [3, 0, 27.0, 1, 2],\n",
              "       [1, 0, 39.0, 1, 0],\n",
              "       [1, 0, 16.0, 1, 2],\n",
              "       [1, 1, 51.0, 0, 2],\n",
              "       [1, 0, 48.0, 0, 2],\n",
              "       [1, 1, 31.0, 0, 2],\n",
              "       [1, 0, 47.0, 1, 2],\n",
              "       [1, 1, 33.0, 0, 2],\n",
              "       [1, 0, 56.0, 1, 0],\n",
              "       [1, 0, 19.0, 0, 2],\n",
              "       [1, 1, 26.0, 0, 0]], dtype=object)"
            ]
          },
          "metadata": {},
          "execution_count": 110
        }
      ]
    },
    {
      "cell_type": "markdown",
      "source": [
        "**Building Decision Tree model**"
      ],
      "metadata": {
        "id": "JeznfO0b48Xn"
      }
    },
    {
      "cell_type": "code",
      "source": [
        "titanic_tree = DecisionTreeClassifier(criterion=\"entropy\", max_depth=4)\n",
        "titanic_tree.fit(X,y)"
      ],
      "metadata": {
        "id": "l1h0c2EQoVHX",
        "outputId": "1d43fe86-f739-42da-8283-34144a605a7f",
        "colab": {
          "base_uri": "https://localhost:8080/",
          "height": 75
        }
      },
      "execution_count": 111,
      "outputs": [
        {
          "output_type": "execute_result",
          "data": {
            "text/plain": [
              "DecisionTreeClassifier(criterion='entropy', max_depth=4)"
            ],
            "text/html": [
              "<style>#sk-container-id-2 {color: black;background-color: white;}#sk-container-id-2 pre{padding: 0;}#sk-container-id-2 div.sk-toggleable {background-color: white;}#sk-container-id-2 label.sk-toggleable__label {cursor: pointer;display: block;width: 100%;margin-bottom: 0;padding: 0.3em;box-sizing: border-box;text-align: center;}#sk-container-id-2 label.sk-toggleable__label-arrow:before {content: \"▸\";float: left;margin-right: 0.25em;color: #696969;}#sk-container-id-2 label.sk-toggleable__label-arrow:hover:before {color: black;}#sk-container-id-2 div.sk-estimator:hover label.sk-toggleable__label-arrow:before {color: black;}#sk-container-id-2 div.sk-toggleable__content {max-height: 0;max-width: 0;overflow: hidden;text-align: left;background-color: #f0f8ff;}#sk-container-id-2 div.sk-toggleable__content pre {margin: 0.2em;color: black;border-radius: 0.25em;background-color: #f0f8ff;}#sk-container-id-2 input.sk-toggleable__control:checked~div.sk-toggleable__content {max-height: 200px;max-width: 100%;overflow: auto;}#sk-container-id-2 input.sk-toggleable__control:checked~label.sk-toggleable__label-arrow:before {content: \"▾\";}#sk-container-id-2 div.sk-estimator input.sk-toggleable__control:checked~label.sk-toggleable__label {background-color: #d4ebff;}#sk-container-id-2 div.sk-label input.sk-toggleable__control:checked~label.sk-toggleable__label {background-color: #d4ebff;}#sk-container-id-2 input.sk-hidden--visually {border: 0;clip: rect(1px 1px 1px 1px);clip: rect(1px, 1px, 1px, 1px);height: 1px;margin: -1px;overflow: hidden;padding: 0;position: absolute;width: 1px;}#sk-container-id-2 div.sk-estimator {font-family: monospace;background-color: #f0f8ff;border: 1px dotted black;border-radius: 0.25em;box-sizing: border-box;margin-bottom: 0.5em;}#sk-container-id-2 div.sk-estimator:hover {background-color: #d4ebff;}#sk-container-id-2 div.sk-parallel-item::after {content: \"\";width: 100%;border-bottom: 1px solid gray;flex-grow: 1;}#sk-container-id-2 div.sk-label:hover label.sk-toggleable__label {background-color: #d4ebff;}#sk-container-id-2 div.sk-serial::before {content: \"\";position: absolute;border-left: 1px solid gray;box-sizing: border-box;top: 0;bottom: 0;left: 50%;z-index: 0;}#sk-container-id-2 div.sk-serial {display: flex;flex-direction: column;align-items: center;background-color: white;padding-right: 0.2em;padding-left: 0.2em;position: relative;}#sk-container-id-2 div.sk-item {position: relative;z-index: 1;}#sk-container-id-2 div.sk-parallel {display: flex;align-items: stretch;justify-content: center;background-color: white;position: relative;}#sk-container-id-2 div.sk-item::before, #sk-container-id-2 div.sk-parallel-item::before {content: \"\";position: absolute;border-left: 1px solid gray;box-sizing: border-box;top: 0;bottom: 0;left: 50%;z-index: -1;}#sk-container-id-2 div.sk-parallel-item {display: flex;flex-direction: column;z-index: 1;position: relative;background-color: white;}#sk-container-id-2 div.sk-parallel-item:first-child::after {align-self: flex-end;width: 50%;}#sk-container-id-2 div.sk-parallel-item:last-child::after {align-self: flex-start;width: 50%;}#sk-container-id-2 div.sk-parallel-item:only-child::after {width: 0;}#sk-container-id-2 div.sk-dashed-wrapped {border: 1px dashed gray;margin: 0 0.4em 0.5em 0.4em;box-sizing: border-box;padding-bottom: 0.4em;background-color: white;}#sk-container-id-2 div.sk-label label {font-family: monospace;font-weight: bold;display: inline-block;line-height: 1.2em;}#sk-container-id-2 div.sk-label-container {text-align: center;}#sk-container-id-2 div.sk-container {/* jupyter's `normalize.less` sets `[hidden] { display: none; }` but bootstrap.min.css set `[hidden] { display: none !important; }` so we also need the `!important` here to be able to override the default hidden behavior on the sphinx rendered scikit-learn.org. See: https://github.com/scikit-learn/scikit-learn/issues/21755 */display: inline-block !important;position: relative;}#sk-container-id-2 div.sk-text-repr-fallback {display: none;}</style><div id=\"sk-container-id-2\" class=\"sk-top-container\"><div class=\"sk-text-repr-fallback\"><pre>DecisionTreeClassifier(criterion=&#x27;entropy&#x27;, max_depth=4)</pre><b>In a Jupyter environment, please rerun this cell to show the HTML representation or trust the notebook. <br />On GitHub, the HTML representation is unable to render, please try loading this page with nbviewer.org.</b></div><div class=\"sk-container\" hidden><div class=\"sk-item\"><div class=\"sk-estimator sk-toggleable\"><input class=\"sk-toggleable__control sk-hidden--visually\" id=\"sk-estimator-id-2\" type=\"checkbox\" checked><label for=\"sk-estimator-id-2\" class=\"sk-toggleable__label sk-toggleable__label-arrow\">DecisionTreeClassifier</label><div class=\"sk-toggleable__content\"><pre>DecisionTreeClassifier(criterion=&#x27;entropy&#x27;, max_depth=4)</pre></div></div></div></div></div>"
            ]
          },
          "metadata": {},
          "execution_count": 111
        }
      ]
    },
    {
      "cell_type": "markdown",
      "source": [
        "**Model Predictions**"
      ],
      "metadata": {
        "id": "-hwg5Bea4wEP"
      }
    },
    {
      "cell_type": "code",
      "source": [
        "pred_Tree = titanic_tree.predict(X_test2)"
      ],
      "metadata": {
        "id": "-T0H28p5yIDu"
      },
      "execution_count": 112,
      "outputs": []
    },
    {
      "cell_type": "markdown",
      "source": [
        "**Evaluation of model using accuracy_score**"
      ],
      "metadata": {
        "id": "IgRhsOTg4acl"
      }
    },
    {
      "cell_type": "code",
      "source": [
        "from sklearn import metrics\n",
        "import matplotlib.pyplot as plt\n",
        "print(\"DecisionTrees's Accuracy: \", metrics.accuracy_score(y_test2, pred_Tree))"
      ],
      "metadata": {
        "id": "-whZwIHNyt1E",
        "outputId": "a25b2788-c712-4200-c073-7a27a121b8ff",
        "colab": {
          "base_uri": "https://localhost:8080/"
        }
      },
      "execution_count": 113,
      "outputs": [
        {
          "output_type": "stream",
          "name": "stdout",
          "text": [
            "DecisionTrees's Accuracy:  0.6896551724137931\n"
          ]
        }
      ]
    },
    {
      "cell_type": "markdown",
      "source": [
        "**Data Visualization**"
      ],
      "metadata": {
        "id": "Bc6802hv4M1M"
      }
    },
    {
      "cell_type": "code",
      "source": [
        "tree.plot_tree(titanic_tree)\n",
        "plt.show()"
      ],
      "metadata": {
        "id": "1WBYTl3Zy-A1",
        "outputId": "67e39d75-7ccc-4815-8d38-66dfc3178d12",
        "colab": {
          "base_uri": "https://localhost:8080/",
          "height": 406
        }
      },
      "execution_count": 114,
      "outputs": [
        {
          "output_type": "display_data",
          "data": {
            "text/plain": [
              "<Figure size 640x480 with 1 Axes>"
            ],
            "image/png": "[encoded data removed]"
          },
          "metadata": {}
        }
      ]
    },
    {
      "cell_type": "code",
      "source": [],
      "metadata": {
        "id": "U_hRWtWB3pUk"
      },
      "execution_count": null,
      "outputs": []
    }
  ]
}